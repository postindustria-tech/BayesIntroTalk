{
 "cells": [
  {
   "cell_type": "code",
   "execution_count": 1,
   "metadata": {},
   "outputs": [],
   "source": [
    "import IPython.display as disp\n",
    "import ipywidgets as widgets\n",
    "import matplotlib.pyplot as plt\n",
    "import numpy as np\n",
    "from tqdm.notebook import tqdm\n",
    "\n",
    "from collections import Counter"
   ]
  },
  {
   "cell_type": "markdown",
   "metadata": {},
   "source": [
    "## Bayes formula"
   ]
  },
  {
   "cell_type": "markdown",
   "metadata": {},
   "source": [
    "\\begin{equation}\n",
    "P(\\theta|D)=\\frac{P(D|\\theta)P(\\theta)}{P(D)}\n",
    "\\end{equation}\n",
    "\n",
    "$ P(\\theta|D) $ — probability of hypothesis, given data $\\theta$ \n",
    "\n",
    "$ P(D|\\theta) $ — proabability of data, if hypothesis is true\n",
    "\n",
    "$ P(D) $ — normalising constant (probability of data $\\theta$ \n",
    "\n",
    "$ P(\\theta) $ — prior probability of data"
   ]
  },
  {
   "cell_type": "markdown",
   "metadata": {},
   "source": [
    "Let's calculate our example with desease test\n",
    "\n",
    "$ P(\\theta|D) $ — patient is sick, given test is positive\n",
    "\n",
    "$ P(D|\\theta) $ — test is positive, if patient is sick. As our test's reliability is 99%, this equals 0.99\n",
    "\n",
    "$ P(D) $ — probability of positive test in any case. It's a sum of \"true positives\" (99% for 1% of people) 0.99 * 0.01 = 0.0099 and \"false positives\" (1% for 99% of people) 0.01 * 0.99 = 0,0099 \n",
    "\n",
    "$ P(\\theta) $ — patient is positive, as this probability is 1%, this will be 0.01\n",
    "\n",
    "$$ P(sick|test+) = \\frac{0.99 * 0.01}{0.0099 + 0.0099} = \\frac{0.0099}{0,0198} = \\frac{1}{2} $$ "
   ]
  },
  {
   "cell_type": "code",
   "execution_count": 2,
   "metadata": {},
   "outputs": [],
   "source": [
    "class BIM():    \n",
    "    def __init__(self, hypotheses, priors, likelihood_func):\n",
    "        self._hyps = np.array(hypotheses)\n",
    "        self._probs = np.array(priors)\n",
    "        self._like_func = likelihood_func\n",
    "        \n",
    "    def update(self, data):\n",
    "        # update probabilities\n",
    "        self._probs = np.array([probability * self._like_func(hypothesis, data) \n",
    "                                for hypothesis, probability in zip(self._hyps, self._probs)])\n",
    "        # normalise\n",
    "        self._probs = self._probs / np.sum(self._probs)\n",
    "    \n",
    "    def __str__(self):\n",
    "        probs = \", \".join(f\"{hyp}: {prob}\" for hyp, prob in zip(self._hyps, self._probs))\n",
    "        return f\"BIM ({probs})\"\n",
    "    \n",
    "    def plot(self, **options):\n",
    "        plt.plot(self._hyps, self._probs, **options)\n",
    "        \n",
    "    def pick_random_hypothesis(self):\n",
    "        return np.random.choice(self._hyps, p=self._probs)\n",
    "    \n",
    "    def mean(self):\n",
    "        return np.sum(self._probs * self._hyps)"
   ]
  },
  {
   "cell_type": "code",
   "execution_count": 3,
   "metadata": {},
   "outputs": [
    {
     "data": {
      "text/plain": [
       "'BIM (First: 0.5, Second: 0.5)'"
      ]
     },
     "execution_count": 3,
     "metadata": {},
     "output_type": "execute_result"
    }
   ],
   "source": [
    "def vases_likelihood(hypotesis, data):\n",
    "    probabilities = {\"First\": {\"Vanilla\": 0.75, \"Chocolate\": 0.25}, \"Second\": {\"Vanilla\": 0.5, \"Chocolate\": 0.5}}\n",
    "    return probabilities[hypotesis][data]\n",
    "\n",
    "two_vases = BIM([\"First\", \"Second\"], [0.5, 0.5], vases_likelihood)\n",
    "\n",
    "str(two_vases)"
   ]
  },
  {
   "cell_type": "code",
   "execution_count": 4,
   "metadata": {},
   "outputs": [
    {
     "data": {
      "text/plain": [
       "'BIM (First: 0.6, Second: 0.4)'"
      ]
     },
     "execution_count": 4,
     "metadata": {},
     "output_type": "execute_result"
    }
   ],
   "source": [
    "two_vases.update(\"Vanilla\")\n",
    "\n",
    "str(two_vases)"
   ]
  },
  {
   "cell_type": "code",
   "execution_count": 5,
   "metadata": {},
   "outputs": [
    {
     "data": {
      "text/plain": [
       "'BIM (First: 0.6923076923076923, Second: 0.30769230769230776)'"
      ]
     },
     "execution_count": 5,
     "metadata": {},
     "output_type": "execute_result"
    }
   ],
   "source": [
    "two_vases.update(\"Vanilla\")\n",
    "\n",
    "str(two_vases)"
   ]
  },
  {
   "cell_type": "code",
   "execution_count": 6,
   "metadata": {},
   "outputs": [
    {
     "data": {
      "application/vnd.jupyter.widget-view+json": {
       "model_id": "e44e548795e24e59b94ceb459f2f6031",
       "version_major": 2,
       "version_minor": 0
      },
      "text/plain": [
       "VBox(children=(HBox(children=(Button(description='Vanilla', style=ButtonStyle()), Button(description='Chocolat…"
      ]
     },
     "metadata": {},
     "output_type": "display_data"
    }
   ],
   "source": [
    "two_vases2 = BIM([\"First\", \"Second\"], [0.5, 0.5], vases_likelihood)\n",
    "\n",
    "vanilla_button = widgets.Button(description=\"Vanilla\")\n",
    "chocolate_button = widgets.Button(description=\"Chocolate\")\n",
    "outp = widgets.Output()\n",
    "\n",
    "def button_clicked(btn):\n",
    "    two_vases2.update(btn.description)\n",
    "    with outp:\n",
    "        print(str(two_vases2))\n",
    "    \n",
    "vanilla_button.on_click(button_clicked)\n",
    "chocolate_button.on_click(button_clicked)\n",
    "\n",
    "widgets.VBox([widgets.HBox([vanilla_button, chocolate_button]), outp])"
   ]
  },
  {
   "cell_type": "code",
   "execution_count": 7,
   "metadata": {},
   "outputs": [
    {
     "data": {
      "text/plain": [
       "'BIM (4: 0.2, 6: 0.2, 8: 0.2, 12: 0.2, 16: 0.2)'"
      ]
     },
     "execution_count": 7,
     "metadata": {},
     "output_type": "execute_result"
    }
   ],
   "source": [
    "cubes = [4, 6, 8, 12, 16]\n",
    "\n",
    "def cubes_likelihood(hypotesis, data):\n",
    "    return 0 if data>hypotesis else 1/hypotesis\n",
    "\n",
    "cubes_test = BIM(cubes, [1/len(cubes)] * len(cubes), cubes_likelihood)\n",
    "\n",
    "str(cubes_test)"
   ]
  },
  {
   "cell_type": "code",
   "execution_count": 8,
   "metadata": {},
   "outputs": [
    {
     "data": {
      "application/vnd.jupyter.widget-view+json": {
       "model_id": "273b18ef9c5449bab100fe70f612ebb6",
       "version_major": 2,
       "version_minor": 0
      },
      "text/plain": [
       "VBox(children=(IntSlider(value=3, description='Dice roll:', max=16, min=1), Button(description='Roll!', style=…"
      ]
     },
     "metadata": {},
     "output_type": "display_data"
    }
   ],
   "source": [
    "val_slider = widgets.IntSlider(value=3, min=1, max=16, description='Dice roll:', readout=True, readout_format='d')\n",
    "roll_button = widgets.Button(description=\"Roll!\")\n",
    "outp = widgets.Output()\n",
    "\n",
    "def update_info():\n",
    "    with outp:\n",
    "        disp.clear_output(wait=True)\n",
    "        print(str(cubes_test))\n",
    "\n",
    "def button_click(_):\n",
    "    cubes_test.update(val_slider.value)\n",
    "    update_info()\n",
    "    \n",
    "roll_button.on_click(button_click)\n",
    "\n",
    "update_info()\n",
    "widgets.VBox([val_slider, roll_button, outp])"
   ]
  },
  {
   "cell_type": "markdown",
   "metadata": {},
   "source": [
    "## Ad banner model"
   ]
  },
  {
   "cell_type": "code",
   "execution_count": 9,
   "metadata": {},
   "outputs": [
    {
     "data": {
      "image/png": "[encoded data removed]",
      "text/plain": [
       "<Figure size 432x288 with 1 Axes>"
      ]
     },
     "metadata": {
      "needs_background": "light"
     },
     "output_type": "display_data"
    }
   ],
   "source": [
    "def likelihood_banner(hypotesis, data):\n",
    "    \"\"\"Likelihood function for ad banner model\n",
    "    \n",
    "    hypotesis: probability of click (0-100)\n",
    "    data: bool, showing the win\n",
    "    \n",
    "    returns: float probability\n",
    "    \"\"\"\n",
    "    x = hypotesis / 100\n",
    "    if data:\n",
    "        return x\n",
    "    else:\n",
    "        return 1-x\n",
    "    \n",
    "\n",
    "banner = BIM(list(range(101)), [1/101] * 101, likelihood_banner)\n",
    "banner.plot()"
   ]
  },
  {
   "cell_type": "code",
   "execution_count": 10,
   "metadata": {},
   "outputs": [
    {
     "data": {
      "image/png": "[encoded data removed]",
      "text/plain": [
       "<Figure size 432x288 with 1 Axes>"
      ]
     },
     "metadata": {
      "needs_background": "light"
     },
     "output_type": "display_data"
    }
   ],
   "source": [
    "sample_data = [False, False, False, True, True, False, False, True, False, True]\n",
    "\n",
    "for dat in sample_data:\n",
    "    banner.update(dat)\n",
    "    \n",
    "banner.plot()"
   ]
  },
  {
   "cell_type": "code",
   "execution_count": 11,
   "metadata": {},
   "outputs": [
    {
     "data": {
      "image/png": "[encoded data removed]",
      "text/plain": [
       "<Figure size 432x288 with 1 Axes>"
      ]
     },
     "metadata": {
      "needs_background": "light"
     },
     "output_type": "display_data"
    }
   ],
   "source": [
    "more_samples = [True] * 2 + [False] * 20\n",
    "\n",
    "for dat in more_samples:\n",
    "    banner.update(dat)\n",
    "    \n",
    "banner.plot()"
   ]
  },
  {
   "cell_type": "code",
   "execution_count": 12,
   "metadata": {},
   "outputs": [
    {
     "data": {
      "text/plain": [
       "[True, False, False, True, False, False, False, False, False, True]"
      ]
     },
     "execution_count": 12,
     "metadata": {},
     "output_type": "execute_result"
    }
   ],
   "source": [
    "def win_given_probability(prob):\n",
    "    return np.random.rand() < prob\n",
    "\n",
    "[win_given_probability(0.5) for _ in range(10)]"
   ]
  },
  {
   "cell_type": "code",
   "execution_count": 13,
   "metadata": {},
   "outputs": [
    {
     "data": {
      "image/png": "[encoded data removed]",
      "text/plain": [
       "<Figure size 432x288 with 1 Axes>"
      ]
     },
     "metadata": {
      "needs_background": "light"
     },
     "output_type": "display_data"
    }
   ],
   "source": [
    "for _ in range(100):\n",
    "    banner.update(win_given_probability(0.15))\n",
    "    \n",
    "banner.plot()"
   ]
  },
  {
   "cell_type": "code",
   "execution_count": 14,
   "metadata": {},
   "outputs": [
    {
     "data": {
      "image/png": "[encoded data removed]",
      "text/plain": [
       "<Figure size 432x288 with 4 Axes>"
      ]
     },
     "metadata": {
      "needs_background": "light"
     },
     "output_type": "display_data"
    }
   ],
   "source": [
    "test_probs = [0.05, 0.1, 0.2, 0.25]\n",
    "\n",
    "class BannerModel:\n",
    "    def __init__(self, actual_prob):\n",
    "        self.actual_prob = actual_prob\n",
    "        self._bim = BIM(list(range(101)), [1/101] * 101, likelihood_banner)\n",
    "        \n",
    "    def show(self):\n",
    "        outcome = win_given_probability(self.actual_prob)\n",
    "        self._bim.update(outcome)\n",
    "        return outcome\n",
    "        \n",
    "    def plot(self, **kwargs):\n",
    "        self._bim.plot(**kwargs)\n",
    "        \n",
    "    def pick_random(self):\n",
    "        return self._bim.pick_random_hypothesis()\n",
    "    \n",
    "    def mean(self):\n",
    "        return self._bim.mean()\n",
    "        \n",
    "all_banners = [BannerModel(prob) for prob in test_probs]\n",
    "\n",
    "def plot_all(banners, **options):\n",
    "    for idx, banner in enumerate(banners):\n",
    "        plt.subplot(2, 2, idx+1)\n",
    "        banner.plot(label=f'B {banner.actual_prob * 100}%')\n",
    "        plt.gca().set_yticklabels([])\n",
    "        plt.legend()\n",
    "        \n",
    "    plt.tight_layout()\n",
    "    \n",
    "    \n",
    "plot_all(all_banners)"
   ]
  },
  {
   "cell_type": "code",
   "execution_count": 15,
   "metadata": {},
   "outputs": [
    {
     "data": {
      "image/png": "[encoded data removed]",
      "text/plain": [
       "<Figure size 432x288 with 4 Axes>"
      ]
     },
     "metadata": {
      "needs_background": "light"
     },
     "output_type": "display_data"
    }
   ],
   "source": [
    "for banner in all_banners:\n",
    "    for _ in range(100):\n",
    "        banner.show()\n",
    "        \n",
    "plot_all(all_banners)"
   ]
  },
  {
   "cell_type": "code",
   "execution_count": 16,
   "metadata": {},
   "outputs": [
    {
     "name": "stdout",
     "output_type": "stream",
     "text": [
      "We picked 3 and got False. Mean now is 13.5922330096654\n"
     ]
    },
    {
     "data": {
      "text/plain": [
       "3"
      ]
     },
     "execution_count": 16,
     "metadata": {},
     "output_type": "execute_result"
    }
   ],
   "source": [
    "def chose_best_one(all_banners):\n",
    "    return np.argmax([ban.pick_random() for ban in all_banners])\n",
    "\n",
    "def pick_and_show(all_banners, verbose=False):\n",
    "    best = chose_best_one(all_banners)\n",
    "    best_banner = all_banners[best]\n",
    "    outcome = best_banner.show()\n",
    "    \n",
    "    if verbose:\n",
    "        print(f\"We picked {best} and got {outcome}. Mean now is {best_banner.mean()}\")\n",
    "        \n",
    "    return best\n",
    "        \n",
    "pick_and_show(all_banners, verbose=True)"
   ]
  },
  {
   "cell_type": "code",
   "execution_count": 17,
   "metadata": {},
   "outputs": [
    {
     "data": {
      "application/vnd.jupyter.widget-view+json": {
       "model_id": "1b4a6386e9b04120884ef9bdec78575c",
       "version_major": 2,
       "version_minor": 0
      },
      "text/plain": [
       "HBox(children=(FloatProgress(value=0.0, max=1000.0), HTML(value='')))"
      ]
     },
     "metadata": {},
     "output_type": "display_data"
    },
    {
     "name": "stdout",
     "output_type": "stream",
     "text": [
      "\n",
      "0 20\n",
      "1 72\n",
      "2 120\n",
      "3 788\n"
     ]
    },
    {
     "data": {
      "image/png": "[encoded data removed]",
      "text/plain": [
       "<Figure size 432x288 with 4 Axes>"
      ]
     },
     "metadata": {
      "needs_background": "light"
     },
     "output_type": "display_data"
    }
   ],
   "source": [
    "all_banners = [BannerModel(prob) for prob in test_probs]\n",
    "\n",
    "sel_counter = Counter()\n",
    "for _ in tqdm(range(1000)):\n",
    "    selected = pick_and_show(all_banners)\n",
    "    sel_counter[selected] += 1\n",
    "\n",
    "for banner, count in sorted(sel_counter.items()):\n",
    "    print(banner, count)   \n",
    "    \n",
    "plot_all(all_banners)"
   ]
  }
 ],
 "metadata": {
  "kernelspec": {
   "display_name": "Python 3",
   "language": "python",
   "name": "python3"
  },
  "language_info": {
   "codemirror_mode": {
    "name": "ipython",
    "version": 3
   },
   "file_extension": ".py",
   "mimetype": "text/x-python",
   "name": "python",
   "nbconvert_exporter": "python",
   "pygments_lexer": "ipython3",
   "version": "3.7.7"
  }
 },
 "nbformat": 4,
 "nbformat_minor": 4
}
